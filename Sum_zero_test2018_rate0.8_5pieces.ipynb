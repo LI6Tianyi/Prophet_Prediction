{
 "cells": [
  {
   "cell_type": "markdown",
   "metadata": {},
   "source": [
    "### We fix change point range equels 0.1, 0.2, 0.8 and see the prediction for  10 spare parts"
   ]
  },
  {
   "cell_type": "code",
   "execution_count": 1,
   "metadata": {},
   "outputs": [
    {
     "name": "stderr",
     "output_type": "stream",
     "text": [
      "/Users/qiuqiuli/anaconda3/lib/python3.6/site-packages/ipykernel_launcher.py:20: SettingWithCopyWarning: \n",
      "A value is trying to be set on a copy of a slice from a DataFrame.\n",
      "Try using .loc[row_indexer,col_indexer] = value instead\n",
      "\n",
      "See the caveats in the documentation: http://pandas.pydata.org/pandas-docs/stable/indexing.html#indexing-view-versus-copy\n",
      "/Users/qiuqiuli/anaconda3/lib/python3.6/site-packages/ipykernel_launcher.py:21: SettingWithCopyWarning: \n",
      "A value is trying to be set on a copy of a slice from a DataFrame.\n",
      "Try using .loc[row_indexer,col_indexer] = value instead\n",
      "\n",
      "See the caveats in the documentation: http://pandas.pydata.org/pandas-docs/stable/indexing.html#indexing-view-versus-copy\n",
      "INFO:fbprophet.forecaster:Disabling daily seasonality. Run prophet with daily_seasonality=True to override this.\n",
      "INFO:fbprophet.forecaster:Disabling daily seasonality. Run prophet with daily_seasonality=True to override this.\n"
     ]
    },
    {
     "name": "stdout",
     "output_type": "stream",
     "text": [
      "Effingham predicted command number in 2018 : 0.5122246369903376\n",
      "Effingham true command number in 2018: 4.0\n",
      "Effingham PREDICT_error: 0.8719438407524156\n"
     ]
    },
    {
     "name": "stderr",
     "output_type": "stream",
     "text": [
      "INFO:fbprophet.forecaster:Disabling daily seasonality. Run prophet with daily_seasonality=True to override this.\n"
     ]
    },
    {
     "name": "stdout",
     "output_type": "stream",
     "text": [
      "Dunmore predicted command number in 2018 : 0.14937601381029894\n",
      "Dunmore true command number in 2018: 7.0\n",
      "Dunmore PREDICT_error: 0.9786605694556716\n"
     ]
    },
    {
     "name": "stderr",
     "output_type": "stream",
     "text": [
      "INFO:fbprophet.forecaster:Disabling daily seasonality. Run prophet with daily_seasonality=True to override this.\n"
     ]
    },
    {
     "name": "stdout",
     "output_type": "stream",
     "text": [
      "Aberaeron predicted command number in 2018 : 3.018476513120145\n",
      "Aberaeron true command number in 2018: 3.0\n",
      "Aberaeron PREDICT_error: 0.006158837706715066\n"
     ]
    },
    {
     "name": "stderr",
     "output_type": "stream",
     "text": [
      "/Users/qiuqiuli/anaconda3/lib/python3.6/site-packages/ipykernel_launcher.py:56: RuntimeWarning: divide by zero encountered in double_scalars\n",
      "INFO:fbprophet.forecaster:Disabling daily seasonality. Run prophet with daily_seasonality=True to override this.\n"
     ]
    },
    {
     "name": "stdout",
     "output_type": "stream",
     "text": [
      "Abbeville predicted command number in 2018 : 2.5503107502927946\n",
      "Abbeville true command number in 2018: 0.0\n",
      "Abbeville PREDICT_error: inf\n"
     ]
    },
    {
     "name": "stderr",
     "output_type": "stream",
     "text": [
      "INFO:fbprophet.forecaster:Disabling daily seasonality. Run prophet with daily_seasonality=True to override this.\n"
     ]
    },
    {
     "name": "stdout",
     "output_type": "stream",
     "text": [
      "Cameron predicted command number in 2018 : 25.187592210715266\n",
      "Cameron true command number in 2018: 31.0\n",
      "Cameron PREDICT_error: 0.18749702546079786\n"
     ]
    },
    {
     "name": "stderr",
     "output_type": "stream",
     "text": [
      "INFO:fbprophet.forecaster:Disabling daily seasonality. Run prophet with daily_seasonality=True to override this.\n"
     ]
    },
    {
     "name": "stdout",
     "output_type": "stream",
     "text": [
      "Elkhart predicted command number in 2018 : 67.28923612511255\n",
      "Elkhart true command number in 2018: 83.0\n",
      "Elkhart PREDICT_error: 0.1892863117456319\n"
     ]
    },
    {
     "name": "stderr",
     "output_type": "stream",
     "text": [
      "INFO:fbprophet.forecaster:Disabling daily seasonality. Run prophet with daily_seasonality=True to override this.\n"
     ]
    },
    {
     "name": "stdout",
     "output_type": "stream",
     "text": [
      "Elberton predicted command number in 2018 : 123.88457439072636\n",
      "Elberton true command number in 2018: 73.0\n",
      "Elberton PREDICT_error: 0.6970489642565254\n"
     ]
    },
    {
     "name": "stderr",
     "output_type": "stream",
     "text": [
      "INFO:fbprophet.forecaster:Disabling daily seasonality. Run prophet with daily_seasonality=True to override this.\n"
     ]
    },
    {
     "name": "stdout",
     "output_type": "stream",
     "text": [
      "Catford predicted command number in 2018 : 61.29345019788758\n",
      "Catford true command number in 2018: 6.0\n",
      "Catford PREDICT_error: 9.215575032981263\n"
     ]
    },
    {
     "name": "stderr",
     "output_type": "stream",
     "text": [
      "INFO:fbprophet.forecaster:Disabling daily seasonality. Run prophet with daily_seasonality=True to override this.\n"
     ]
    },
    {
     "name": "stdout",
     "output_type": "stream",
     "text": [
      "Bennettsville predicted command number in 2018 : 11.925234677288074\n",
      "Bennettsville true command number in 2018: 0.0\n",
      "Bennettsville PREDICT_error: inf\n",
      "Eldridge predicted command number in 2018 : 190.10238111290028\n",
      "Eldridge true command number in 2018: 396.0\n",
      "Eldridge PREDICT_error: 0.5199434820381306\n"
     ]
    }
   ],
   "source": [
    "## import and load in\n",
    "import pandas as pd\n",
    "import numpy as np\n",
    "from fbprophet import Prophet\n",
    "import os\n",
    "\n",
    "f=pd.read_csv('LRU_order_among_the_years.csv', header=1)\n",
    "\n",
    "\n",
    "# delete the first line \n",
    "f=f.drop(f.index[0])\n",
    "f.reset_index(drop=True, inplace=True)\n",
    "\n",
    "\n",
    "\n",
    "#choose the spare part we want, delete other colomns  and change the formula to do ''Prophet'' training\n",
    "PARAs = ['Effingham','Dunmore','Aberaeron','Abbeville','Cameron','Elkhart','Elberton','Catford','Bennettsville','Eldridge']\n",
    "for PARA in PARAs:\n",
    "    df=f[['LRU',PARA]]\n",
    "    df['ds'] = df['LRU']\n",
    "    df['y'] = df[PARA]\n",
    "    df = df.drop(['LRU',PARA],axis=1)\n",
    "    ## do the sum of commandes and get the new list  \n",
    "    Sum_Aberaeron = df\n",
    "    Sum_Aberaeron.reset_index(drop=True, inplace=True)\n",
    "    Sum_Aberaeron['ds'] = pd.to_datetime(Sum_Aberaeron['ds'])\n",
    "    Sum_Aberaeron.sort_values('ds',inplace=True)\n",
    "    Sum_Aberaeron['cumsum']=Sum_Aberaeron['y'].cumsum()\n",
    "    Sum_Aberaeron['y']=Sum_Aberaeron['cumsum']\n",
    "    Sum_Aberaeron  =Sum_Aberaeron.drop(['cumsum'],axis=1)\n",
    "    \n",
    "    # split the training set and test set: training :'from 2009 to '20171231' , testing :'from 20180101 to '20180926' \n",
    "    train=Sum_Aberaeron[Sum_Aberaeron['ds']<'20180101']\n",
    "    test=Sum_Aberaeron[Sum_Aberaeron['ds']>'20171231']\n",
    "    \n",
    "    #prophet traing\n",
    "    m = Prophet(growth='linear', changepoints=None, n_changepoints=25, changepoint_range=0.2, yearly_seasonality='auto', weekly_seasonality='auto', daily_seasonality='auto', holidays=None, seasonality_mode='additive', seasonality_prior_scale=10.0, holidays_prior_scale=10.0, changepoint_prior_scale=0.05, mcmc_samples=0, interval_width=0.8, uncertainty_samples=1000)\n",
    "    m.fit(train)\n",
    "    forecast = m.predict(test)\n",
    "    \n",
    "    # calculate the grow rate in year 2018  for both the true data and prediction\n",
    "    firstday = forecast[forecast['ds']=='20180101']\n",
    "    lastday = forecast[forecast['ds']=='20180926']\n",
    "    agg_2018_pre= (lastday['yhat'].values[0] - firstday['yhat'].values[0])\n",
    "    print(PARA+' predicted command number in 2018 : ' +str(agg_2018_pre))\n",
    "\n",
    "    # print(\"Generalization error: %g\"%(1.-rf.score(Xtest,ytest)))\n",
    "\n",
    "    firstday_test = test[test['ds']=='20180101']\n",
    "    lastday_test = test[test['ds']=='20180926']\n",
    "    agg_2018 = (lastday_test['y'].values[0] - firstday_test['y'].values[0])\n",
    "    print(PARA+' true command number in 2018: ' + str(agg_2018))\n",
    "\n",
    "    #calculate the prediction error\n",
    "\n",
    "    print(PARA+' PREDICT_error: ' + str( np.abs(agg_2018-agg_2018_pre)/agg_2018 ))"
   ]
  },
  {
   "cell_type": "markdown",
   "metadata": {},
   "source": [
    "### Result (n_changepoints=25)\n",
    "1. changepoint_range=0.01 predict error of Aberaeron ~0.04, Elberton ~0.37, best result for Aberaeron, Elberton and Abbeville (predict ~0.18 while true=0)\n",
    "2. changepoint_range=0.2 predict error of Elkhart ~0.04, best result for Elkhart\n",
    "3. changepoint_range=1 predict error of Catford ~1. best result for Catford => this kind of prediction may be not suitable for Catford"
   ]
  },
  {
   "cell_type": "markdown",
   "metadata": {},
   "source": [
    "### Result (changepoint_range=1)\n",
    "    n_changepoints=100 predict error of Catford ~0.6\n",
    "the influence of n_changepoints at best point is only significant on Catford. \n",
    "However, on general the augmentation of n_changepoints can diminue the prediction error at the points where the changepoint_range is not the best"
   ]
  },
  {
   "cell_type": "code",
   "execution_count": null,
   "metadata": {},
   "outputs": [],
   "source": []
  }
 ],
 "metadata": {
  "kernelspec": {
   "display_name": "Python 3",
   "language": "python",
   "name": "python3"
  },
  "language_info": {
   "codemirror_mode": {
    "name": "ipython",
    "version": 3
   },
   "file_extension": ".py",
   "mimetype": "text/x-python",
   "name": "python",
   "nbconvert_exporter": "python",
   "pygments_lexer": "ipython3",
   "version": "3.6.5"
  }
 },
 "nbformat": 4,
 "nbformat_minor": 2
}
