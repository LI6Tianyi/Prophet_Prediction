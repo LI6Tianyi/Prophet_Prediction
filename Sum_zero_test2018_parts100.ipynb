{
 "cells": [
  {
   "cell_type": "markdown",
   "metadata": {},
   "source": [
    "### We  change point range  0.1, 0.5, 0.8 and change rate to find the best fit for spare parts >100\n",
    "\n",
    "### We want to get the best Prophet prediction for spare parts whose command number is >100. So we use the data from 09-17 as training data and 2018 as test data. We want to find the best  prophet paramater 'espically chang_point rate'  that can mininser the overall error"
   ]
  },
  {
   "cell_type": "code",
   "execution_count": 1,
   "metadata": {},
   "outputs": [],
   "source": [
    "## import and load in\n",
    "import pandas as pd\n",
    "import numpy as np\n",
    "from fbprophet import Prophet\n",
    "import os\n",
    "\n",
    "# select the name whose total command are >100 and save them in PARAs\n",
    "df1 = pd.read_excel(\"encoded_pic_septembre_2018.xlsx\")\n",
    "df2=df1.groupby(by=['item',df1.index]).sum()\n",
    "df3=df2.groupby(['item']).size()\n",
    "df4 = df3.sort_values()\n",
    "PARAs = df4[1521:-1].index\n",
    "# >100: >1450"
   ]
  },
  {
   "cell_type": "code",
   "execution_count": 9,
   "metadata": {},
   "outputs": [
    {
     "name": "stderr",
     "output_type": "stream",
     "text": [
      "/Users/qiuqiuli/anaconda3/lib/python3.6/site-packages/ipykernel_launcher.py:19: SettingWithCopyWarning: \n",
      "A value is trying to be set on a copy of a slice from a DataFrame.\n",
      "Try using .loc[row_indexer,col_indexer] = value instead\n",
      "\n",
      "See the caveats in the documentation: http://pandas.pydata.org/pandas-docs/stable/indexing.html#indexing-view-versus-copy\n",
      "/Users/qiuqiuli/anaconda3/lib/python3.6/site-packages/ipykernel_launcher.py:20: SettingWithCopyWarning: \n",
      "A value is trying to be set on a copy of a slice from a DataFrame.\n",
      "Try using .loc[row_indexer,col_indexer] = value instead\n",
      "\n",
      "See the caveats in the documentation: http://pandas.pydata.org/pandas-docs/stable/indexing.html#indexing-view-versus-copy\n",
      "INFO:fbprophet.forecaster:Disabling daily seasonality. Run prophet with daily_seasonality=True to override this.\n",
      "INFO:fbprophet.forecaster:Disabling daily seasonality. Run prophet with daily_seasonality=True to override this.\n"
     ]
    },
    {
     "name": "stdout",
     "output_type": "stream",
     "text": [
      "Chester PREDICT_error: 0.25443951874661414\n"
     ]
    },
    {
     "name": "stderr",
     "output_type": "stream",
     "text": [
      "INFO:fbprophet.forecaster:Disabling daily seasonality. Run prophet with daily_seasonality=True to override this.\n"
     ]
    },
    {
     "name": "stdout",
     "output_type": "stream",
     "text": [
      "Buellton PREDICT_error: 0.6408018892035009\n"
     ]
    },
    {
     "name": "stderr",
     "output_type": "stream",
     "text": [
      "/Users/qiuqiuli/anaconda3/lib/python3.6/site-packages/ipykernel_launcher.py:54: RuntimeWarning: divide by zero encountered in double_scalars\n",
      "INFO:fbprophet.forecaster:Disabling daily seasonality. Run prophet with daily_seasonality=True to override this.\n"
     ]
    },
    {
     "name": "stdout",
     "output_type": "stream",
     "text": [
      "Cloquet PREDICT_error: inf\n"
     ]
    },
    {
     "name": "stderr",
     "output_type": "stream",
     "text": [
      "INFO:fbprophet.forecaster:Disabling daily seasonality. Run prophet with daily_seasonality=True to override this.\n"
     ]
    },
    {
     "name": "stdout",
     "output_type": "stream",
     "text": [
      "Florham Park PREDICT_error: 0.958676511709333\n"
     ]
    },
    {
     "name": "stderr",
     "output_type": "stream",
     "text": [
      "INFO:fbprophet.forecaster:Disabling daily seasonality. Run prophet with daily_seasonality=True to override this.\n"
     ]
    },
    {
     "name": "stdout",
     "output_type": "stream",
     "text": [
      "College Park PREDICT_error: 29.471057271261273\n"
     ]
    },
    {
     "name": "stderr",
     "output_type": "stream",
     "text": [
      "INFO:fbprophet.forecaster:Disabling daily seasonality. Run prophet with daily_seasonality=True to override this.\n"
     ]
    },
    {
     "name": "stdout",
     "output_type": "stream",
     "text": [
      "Darien PREDICT_error: 0.6218377570633579\n"
     ]
    },
    {
     "name": "stderr",
     "output_type": "stream",
     "text": [
      "INFO:fbprophet.forecaster:Disabling daily seasonality. Run prophet with daily_seasonality=True to override this.\n"
     ]
    },
    {
     "name": "stdout",
     "output_type": "stream",
     "text": [
      "Gastonia PREDICT_error: 0.09746337911566785\n"
     ]
    },
    {
     "name": "stderr",
     "output_type": "stream",
     "text": [
      "INFO:fbprophet.forecaster:Disabling daily seasonality. Run prophet with daily_seasonality=True to override this.\n"
     ]
    },
    {
     "name": "stdout",
     "output_type": "stream",
     "text": [
      "Grayson PREDICT_error: 0.49980392726424977\n"
     ]
    },
    {
     "name": "stderr",
     "output_type": "stream",
     "text": [
      "INFO:fbprophet.forecaster:Disabling daily seasonality. Run prophet with daily_seasonality=True to override this.\n"
     ]
    },
    {
     "name": "stdout",
     "output_type": "stream",
     "text": [
      "Glendora PREDICT_error: 0.010537870375066214\n"
     ]
    },
    {
     "name": "stderr",
     "output_type": "stream",
     "text": [
      "INFO:fbprophet.forecaster:Disabling daily seasonality. Run prophet with daily_seasonality=True to override this.\n"
     ]
    },
    {
     "name": "stdout",
     "output_type": "stream",
     "text": [
      "Galax PREDICT_error: 0.41706257981292366\n"
     ]
    },
    {
     "name": "stderr",
     "output_type": "stream",
     "text": [
      "INFO:fbprophet.forecaster:Disabling daily seasonality. Run prophet with daily_seasonality=True to override this.\n"
     ]
    },
    {
     "name": "stdout",
     "output_type": "stream",
     "text": [
      "Farmington PREDICT_error: 0.4418920663226927\n"
     ]
    },
    {
     "name": "stderr",
     "output_type": "stream",
     "text": [
      "INFO:fbprophet.forecaster:Disabling daily seasonality. Run prophet with daily_seasonality=True to override this.\n"
     ]
    },
    {
     "name": "stdout",
     "output_type": "stream",
     "text": [
      "Belvidere PREDICT_error: 0.09420428913519703\n"
     ]
    },
    {
     "name": "stderr",
     "output_type": "stream",
     "text": [
      "INFO:fbprophet.forecaster:Disabling daily seasonality. Run prophet with daily_seasonality=True to override this.\n"
     ]
    },
    {
     "name": "stdout",
     "output_type": "stream",
     "text": [
      "Fairfield PREDICT_error: 1.0002366892473902\n"
     ]
    },
    {
     "name": "stderr",
     "output_type": "stream",
     "text": [
      "INFO:fbprophet.forecaster:Disabling daily seasonality. Run prophet with daily_seasonality=True to override this.\n"
     ]
    },
    {
     "name": "stdout",
     "output_type": "stream",
     "text": [
      "Dardenne Prairie PREDICT_error: 0.6688370767881829\n"
     ]
    },
    {
     "name": "stderr",
     "output_type": "stream",
     "text": [
      "INFO:fbprophet.forecaster:Disabling daily seasonality. Run prophet with daily_seasonality=True to override this.\n"
     ]
    },
    {
     "name": "stdout",
     "output_type": "stream",
     "text": [
      "El Paso PREDICT_error: 0.23626607698255403\n"
     ]
    },
    {
     "name": "stderr",
     "output_type": "stream",
     "text": [
      "INFO:fbprophet.forecaster:Disabling daily seasonality. Run prophet with daily_seasonality=True to override this.\n"
     ]
    },
    {
     "name": "stdout",
     "output_type": "stream",
     "text": [
      "Fort Bragg PREDICT_error: 0.18489173682973137\n"
     ]
    },
    {
     "name": "stderr",
     "output_type": "stream",
     "text": [
      "INFO:fbprophet.forecaster:Disabling daily seasonality. Run prophet with daily_seasonality=True to override this.\n"
     ]
    },
    {
     "name": "stdout",
     "output_type": "stream",
     "text": [
      "El Mirage PREDICT_error: 0.105506466400625\n"
     ]
    },
    {
     "name": "stderr",
     "output_type": "stream",
     "text": [
      "INFO:fbprophet.forecaster:Disabling daily seasonality. Run prophet with daily_seasonality=True to override this.\n"
     ]
    },
    {
     "name": "stdout",
     "output_type": "stream",
     "text": [
      "Glenolden PREDICT_error: 1.814193332550983\n"
     ]
    },
    {
     "name": "stderr",
     "output_type": "stream",
     "text": [
      "INFO:fbprophet.forecaster:Disabling daily seasonality. Run prophet with daily_seasonality=True to override this.\n"
     ]
    },
    {
     "name": "stdout",
     "output_type": "stream",
     "text": [
      "Glens Falls PREDICT_error: 0.31413114985707374\n"
     ]
    },
    {
     "name": "stderr",
     "output_type": "stream",
     "text": [
      "INFO:fbprophet.forecaster:Disabling daily seasonality. Run prophet with daily_seasonality=True to override this.\n"
     ]
    },
    {
     "name": "stdout",
     "output_type": "stream",
     "text": [
      "Grosse Pointe Park PREDICT_error: 0.6923208552064921\n"
     ]
    },
    {
     "name": "stderr",
     "output_type": "stream",
     "text": [
      "INFO:fbprophet.forecaster:Disabling daily seasonality. Run prophet with daily_seasonality=True to override this.\n"
     ]
    },
    {
     "name": "stdout",
     "output_type": "stream",
     "text": [
      "Cahokia PREDICT_error: 0.5063087545378534\n"
     ]
    },
    {
     "name": "stderr",
     "output_type": "stream",
     "text": [
      "INFO:fbprophet.forecaster:Disabling daily seasonality. Run prophet with daily_seasonality=True to override this.\n"
     ]
    },
    {
     "name": "stdout",
     "output_type": "stream",
     "text": [
      "Cameron PREDICT_error: 0.2074094189641086\n"
     ]
    },
    {
     "name": "stderr",
     "output_type": "stream",
     "text": [
      "INFO:fbprophet.forecaster:Disabling daily seasonality. Run prophet with daily_seasonality=True to override this.\n"
     ]
    },
    {
     "name": "stdout",
     "output_type": "stream",
     "text": [
      "Canfield PREDICT_error: 0.053760369640860305\n"
     ]
    },
    {
     "name": "stderr",
     "output_type": "stream",
     "text": [
      "INFO:fbprophet.forecaster:Disabling daily seasonality. Run prophet with daily_seasonality=True to override this.\n"
     ]
    },
    {
     "name": "stdout",
     "output_type": "stream",
     "text": [
      "Benton PREDICT_error: inf\n"
     ]
    },
    {
     "name": "stderr",
     "output_type": "stream",
     "text": [
      "INFO:fbprophet.forecaster:Disabling daily seasonality. Run prophet with daily_seasonality=True to override this.\n"
     ]
    },
    {
     "name": "stdout",
     "output_type": "stream",
     "text": [
      "Camden Town PREDICT_error: 0.3853617308308474\n"
     ]
    },
    {
     "name": "stderr",
     "output_type": "stream",
     "text": [
      "INFO:fbprophet.forecaster:Disabling daily seasonality. Run prophet with daily_seasonality=True to override this.\n"
     ]
    },
    {
     "name": "stdout",
     "output_type": "stream",
     "text": [
      "Calera PREDICT_error: 0.3268262280021697\n"
     ]
    },
    {
     "name": "stderr",
     "output_type": "stream",
     "text": [
      "INFO:fbprophet.forecaster:Disabling daily seasonality. Run prophet with daily_seasonality=True to override this.\n"
     ]
    },
    {
     "name": "stdout",
     "output_type": "stream",
     "text": [
      "Cedarburg PREDICT_error: 0.4215631566005854\n"
     ]
    },
    {
     "name": "stderr",
     "output_type": "stream",
     "text": [
      "INFO:fbprophet.forecaster:Disabling daily seasonality. Run prophet with daily_seasonality=True to override this.\n"
     ]
    },
    {
     "name": "stdout",
     "output_type": "stream",
     "text": [
      "Canal Fulton PREDICT_error: 0.8058655720955872\n"
     ]
    },
    {
     "name": "stderr",
     "output_type": "stream",
     "text": [
      "INFO:fbprophet.forecaster:Disabling daily seasonality. Run prophet with daily_seasonality=True to override this.\n"
     ]
    },
    {
     "name": "stdout",
     "output_type": "stream",
     "text": [
      "Bay Harbor Islands PREDICT_error: 0.06513675084875226\n"
     ]
    },
    {
     "name": "stderr",
     "output_type": "stream",
     "text": [
      "INFO:fbprophet.forecaster:Disabling daily seasonality. Run prophet with daily_seasonality=True to override this.\n"
     ]
    },
    {
     "name": "stdout",
     "output_type": "stream",
     "text": [
      "Elkhart PREDICT_error: 0.22011840641202954\n"
     ]
    },
    {
     "name": "stderr",
     "output_type": "stream",
     "text": [
      "INFO:fbprophet.forecaster:Disabling daily seasonality. Run prophet with daily_seasonality=True to override this.\n"
     ]
    },
    {
     "name": "stdout",
     "output_type": "stream",
     "text": [
      "Cheney PREDICT_error: 0.5272039741937116\n"
     ]
    },
    {
     "name": "stderr",
     "output_type": "stream",
     "text": [
      "INFO:fbprophet.forecaster:Disabling daily seasonality. Run prophet with daily_seasonality=True to override this.\n"
     ]
    },
    {
     "name": "stdout",
     "output_type": "stream",
     "text": [
      "El Dorado PREDICT_error: 0.025801684623792\n"
     ]
    },
    {
     "name": "stderr",
     "output_type": "stream",
     "text": [
      "INFO:fbprophet.forecaster:Disabling daily seasonality. Run prophet with daily_seasonality=True to override this.\n"
     ]
    },
    {
     "name": "stdout",
     "output_type": "stream",
     "text": [
      "Catasauqua PREDICT_error: 0.6895581654773387\n"
     ]
    },
    {
     "name": "stderr",
     "output_type": "stream",
     "text": [
      "INFO:fbprophet.forecaster:Disabling daily seasonality. Run prophet with daily_seasonality=True to override this.\n"
     ]
    },
    {
     "name": "stdout",
     "output_type": "stream",
     "text": [
      "El Cerrito PREDICT_error: 0.028788917421913744\n"
     ]
    },
    {
     "name": "stderr",
     "output_type": "stream",
     "text": [
      "INFO:fbprophet.forecaster:Disabling daily seasonality. Run prophet with daily_seasonality=True to override this.\n"
     ]
    },
    {
     "name": "stdout",
     "output_type": "stream",
     "text": [
      "Elberton PREDICT_error: 1.0625190035613308\n"
     ]
    },
    {
     "name": "stderr",
     "output_type": "stream",
     "text": [
      "INFO:fbprophet.forecaster:Disabling daily seasonality. Run prophet with daily_seasonality=True to override this.\n"
     ]
    },
    {
     "name": "stdout",
     "output_type": "stream",
     "text": [
      "Cedar Hill PREDICT_error: 0.048401528824346556\n"
     ]
    },
    {
     "name": "stderr",
     "output_type": "stream",
     "text": [
      "INFO:fbprophet.forecaster:Disabling daily seasonality. Run prophet with daily_seasonality=True to override this.\n"
     ]
    },
    {
     "name": "stdout",
     "output_type": "stream",
     "text": [
      "Farmersville PREDICT_error: 0.06002581364481521\n"
     ]
    },
    {
     "name": "stderr",
     "output_type": "stream",
     "text": [
      "INFO:fbprophet.forecaster:Disabling daily seasonality. Run prophet with daily_seasonality=True to override this.\n"
     ]
    },
    {
     "name": "stdout",
     "output_type": "stream",
     "text": [
      "Farmville PREDICT_error: 0.09275186031203238\n"
     ]
    },
    {
     "name": "stderr",
     "output_type": "stream",
     "text": [
      "INFO:fbprophet.forecaster:Disabling daily seasonality. Run prophet with daily_seasonality=True to override this.\n"
     ]
    },
    {
     "name": "stdout",
     "output_type": "stream",
     "text": [
      "Collegeville PREDICT_error: 0.7037648122076031\n"
     ]
    },
    {
     "name": "stderr",
     "output_type": "stream",
     "text": [
      "INFO:fbprophet.forecaster:Disabling daily seasonality. Run prophet with daily_seasonality=True to override this.\n"
     ]
    },
    {
     "name": "stdout",
     "output_type": "stream",
     "text": [
      "Farmington Hills PREDICT_error: 0.13824475502125663\n"
     ]
    },
    {
     "name": "stderr",
     "output_type": "stream",
     "text": [
      "INFO:fbprophet.forecaster:Disabling daily seasonality. Run prophet with daily_seasonality=True to override this.\n"
     ]
    },
    {
     "name": "stdout",
     "output_type": "stream",
     "text": [
      "Elburn PREDICT_error: 0.5139219722203928\n"
     ]
    },
    {
     "name": "stderr",
     "output_type": "stream",
     "text": [
      "INFO:fbprophet.forecaster:Disabling daily seasonality. Run prophet with daily_seasonality=True to override this.\n"
     ]
    },
    {
     "name": "stdout",
     "output_type": "stream",
     "text": [
      "Collingdale PREDICT_error: 0.5019026805744427\n"
     ]
    },
    {
     "name": "stderr",
     "output_type": "stream",
     "text": [
      "INFO:fbprophet.forecaster:Disabling daily seasonality. Run prophet with daily_seasonality=True to override this.\n"
     ]
    },
    {
     "name": "stdout",
     "output_type": "stream",
     "text": [
      "Cedar Falls PREDICT_error: 1.18231792727266\n"
     ]
    },
    {
     "name": "stderr",
     "output_type": "stream",
     "text": [
      "INFO:fbprophet.forecaster:Disabling daily seasonality. Run prophet with daily_seasonality=True to override this.\n"
     ]
    },
    {
     "name": "stdout",
     "output_type": "stream",
     "text": [
      "Catford PREDICT_error: 6.399719302732649\n"
     ]
    },
    {
     "name": "stderr",
     "output_type": "stream",
     "text": [
      "INFO:fbprophet.forecaster:Disabling daily seasonality. Run prophet with daily_seasonality=True to override this.\n"
     ]
    },
    {
     "name": "stdout",
     "output_type": "stream",
     "text": [
      "Bennettsville PREDICT_error: inf\n"
     ]
    },
    {
     "name": "stderr",
     "output_type": "stream",
     "text": [
      "INFO:fbprophet.forecaster:Disabling daily seasonality. Run prophet with daily_seasonality=True to override this.\n"
     ]
    },
    {
     "name": "stdout",
     "output_type": "stream",
     "text": [
      "Cheraw PREDICT_error: 0.40421128234613635\n"
     ]
    },
    {
     "name": "stderr",
     "output_type": "stream",
     "text": [
      "INFO:fbprophet.forecaster:Disabling daily seasonality. Run prophet with daily_seasonality=True to override this.\n"
     ]
    },
    {
     "name": "stdout",
     "output_type": "stream",
     "text": [
      "Cave Creek PREDICT_error: 1.6516937088720927\n"
     ]
    },
    {
     "name": "stderr",
     "output_type": "stream",
     "text": [
      "INFO:fbprophet.forecaster:Disabling daily seasonality. Run prophet with daily_seasonality=True to override this.\n"
     ]
    },
    {
     "name": "stdout",
     "output_type": "stream",
     "text": [
      "Crockett PREDICT_error: 0.6055296262683302\n",
      "Eldridge PREDICT_error: 0.14823789688282007\n"
     ]
    }
   ],
   "source": [
    "f=pd.read_csv('LRU_order_among_the_years.csv', header=1)\n",
    "\n",
    "\n",
    "# delete the first line \n",
    "f=f.drop(f.index[0])\n",
    "f.reset_index(drop=True, inplace=True)\n",
    "\n",
    "# List to save every prediction errors and we can calculate their mean as overall error afterwards\n",
    "error_list = []\n",
    "\n",
    "list1=[]\n",
    "list2=[]\n",
    "list3=[]\n",
    "worst=[]\n",
    "\n",
    "#choose the spare part we want, delete other colomns  and change the formula to do ''Prophet'' training\n",
    "for PARA in PARAs:\n",
    "    df=f[['LRU',PARA]]\n",
    "    df['ds'] = df['LRU']\n",
    "    df['y'] = df[PARA]\n",
    "    df = df.drop(['LRU',PARA],axis=1)\n",
    "    ## do the sum of commandes and get the new list  \n",
    "    Sum_Aberaeron = df\n",
    "    Sum_Aberaeron.reset_index(drop=True, inplace=True)\n",
    "    Sum_Aberaeron['ds'] = pd.to_datetime(Sum_Aberaeron['ds'])\n",
    "    Sum_Aberaeron.sort_values('ds',inplace=True)\n",
    "    Sum_Aberaeron['cumsum']=Sum_Aberaeron['y'].cumsum()\n",
    "    Sum_Aberaeron['y']=Sum_Aberaeron['cumsum']\n",
    "    Sum_Aberaeron  =Sum_Aberaeron.drop(['cumsum'],axis=1)\n",
    "    \n",
    "    # split the training set and test set: training :'from 2009 to '20171231' , testing :'from 20180101 to '20180926' \n",
    "    train=Sum_Aberaeron[Sum_Aberaeron['ds']<'20180101']\n",
    "    test=Sum_Aberaeron[Sum_Aberaeron['ds']>'20171231']\n",
    "    \n",
    "    #prophet traing\n",
    "    m = Prophet(growth='linear', changepoints=None, n_changepoints=25, changepoint_range=0.5, yearly_seasonality='auto', weekly_seasonality='auto', daily_seasonality='auto', holidays=None, seasonality_mode='additive', seasonality_prior_scale=10.0, holidays_prior_scale=10.0, changepoint_prior_scale=0.05, mcmc_samples=0, interval_width=0.8, uncertainty_samples=1000)\n",
    "    m.fit(train)\n",
    "    forecast = m.predict(test)\n",
    "    \n",
    " # calculate the grow rate in year 2018  for both the true data and prediction\n",
    "    firstday = forecast[forecast['ds']=='20180101']\n",
    "    lastday = forecast[forecast['ds']=='20180926']\n",
    "    agg_2018_pre= (lastday['yhat'].values[0] - firstday['yhat'].values[0])\n",
    "    #print(PARA+' predicted command number in 2018 : ' +str(agg_2018_pre))\n",
    "\n",
    "    # print(\"Generalization error: %g\"%(1.-rf.score(Xtest,ytest)))\n",
    "\n",
    "    firstday_test = test[test['ds']=='20180101']\n",
    "    lastday_test = test[test['ds']=='20180926']\n",
    "    agg_2018 = (lastday_test['y'].values[0] - firstday_test['y'].values[0])\n",
    "    #print(PARA+' true command number in 2018: ' + str(agg_2018))\n",
    "\n",
    "    #calculate the prediction error\n",
    "    error=np.abs(agg_2018-agg_2018_pre)/agg_2018 \n",
    "    if error<0.1:\n",
    "        list1.append(PARA)\n",
    "    else:\n",
    "        if error<0.4:\n",
    "            list2.append(PARA)\n",
    "        else:\n",
    "            if error<0.9:\n",
    "                list3.append(PARA)\n",
    "            else:\n",
    "                worst.append(PARA)\n",
    "    print(PARA+' PREDICT_error: ' + str(error ))\n",
    "    error_list.append(error)"
   ]
  },
  {
   "cell_type": "code",
   "execution_count": 6,
   "metadata": {},
   "outputs": [
    {
     "data": {
      "text/plain": [
       "[0.010537870375066214,\n",
       " 0.025801684623792,\n",
       " 0.028788917421913744,\n",
       " 0.048401528824346556,\n",
       " 0.053760369640860305,\n",
       " 0.06002581364481521,\n",
       " 0.06513675084875226,\n",
       " 0.09275186031203238,\n",
       " 0.09420428913519703,\n",
       " 0.09746337911566785,\n",
       " 0.105506466400625,\n",
       " 0.13824475502125663,\n",
       " 0.14823789688282007,\n",
       " 0.18489173682973137,\n",
       " 0.2074094189641086,\n",
       " 0.22011840641202954,\n",
       " 0.23626607698255403,\n",
       " 0.25443951874661414,\n",
       " 0.31413114985707374,\n",
       " 0.3268262280021697,\n",
       " 0.3853617308308474,\n",
       " 0.40421128234613635,\n",
       " 0.41706257981292366,\n",
       " 0.4215631566005854,\n",
       " 0.4418920663226927,\n",
       " 0.49980392726424977,\n",
       " 0.5019026805744427,\n",
       " 0.5063087545378534,\n",
       " 0.5139219722203928,\n",
       " 0.5272039741937116,\n",
       " 0.6055296262683302,\n",
       " 0.6218377570633579,\n",
       " 0.6408018892035009,\n",
       " 0.6688370767881829,\n",
       " 0.6895581654773387,\n",
       " 0.6923208552064921,\n",
       " 0.7037648122076031,\n",
       " 0.8058655720955872,\n",
       " 0.958676511709333,\n",
       " 1.0002366892473902,\n",
       " 1.0625190035613308,\n",
       " 1.18231792727266,\n",
       " 1.6516937088720927,\n",
       " 1.814193332550983,\n",
       " 6.399719302732649]"
      ]
     },
     "execution_count": 6,
     "metadata": {},
     "output_type": "execute_result"
    }
   ],
   "source": [
    "error_list.sort()\n",
    "error_list.pop(-1)\n",
    "#error_list.pop(-1)\n",
    "#error_list.pop(-1)\n",
    "error_list"
   ]
  },
  {
   "cell_type": "code",
   "execution_count": 14,
   "metadata": {},
   "outputs": [
    {
     "data": {
      "text/plain": [
       "['Gastonia',\n",
       " 'Glendora',\n",
       " 'Belvidere',\n",
       " 'Canfield',\n",
       " 'Bay Harbor Islands',\n",
       " 'El Dorado',\n",
       " 'El Cerrito',\n",
       " 'Cedar Hill',\n",
       " 'Farmersville',\n",
       " 'Farmville']"
      ]
     },
     "execution_count": 14,
     "metadata": {},
     "output_type": "execute_result"
    }
   ],
   "source": [
    "list1"
   ]
  },
  {
   "cell_type": "code",
   "execution_count": 15,
   "metadata": {},
   "outputs": [
    {
     "data": {
      "text/plain": [
       "['Chester',\n",
       " 'El Paso',\n",
       " 'Fort Bragg',\n",
       " 'El Mirage',\n",
       " 'Glens Falls',\n",
       " 'Cameron',\n",
       " 'Camden Town',\n",
       " 'Calera',\n",
       " 'Elkhart',\n",
       " 'Farmington Hills',\n",
       " 'Eldridge']"
      ]
     },
     "execution_count": 15,
     "metadata": {},
     "output_type": "execute_result"
    }
   ],
   "source": [
    "list2"
   ]
  },
  {
   "cell_type": "code",
   "execution_count": 16,
   "metadata": {},
   "outputs": [
    {
     "data": {
      "text/plain": [
       "['Buellton',\n",
       " 'Darien',\n",
       " 'Grayson',\n",
       " 'Galax',\n",
       " 'Farmington',\n",
       " 'Dardenne Prairie',\n",
       " 'Grosse Pointe Park',\n",
       " 'Cahokia',\n",
       " 'Cedarburg',\n",
       " 'Canal Fulton',\n",
       " 'Cheney',\n",
       " 'Catasauqua',\n",
       " 'Collegeville',\n",
       " 'Elburn',\n",
       " 'Collingdale',\n",
       " 'Cheraw',\n",
       " 'Crockett']"
      ]
     },
     "execution_count": 16,
     "metadata": {},
     "output_type": "execute_result"
    }
   ],
   "source": [
    "list3"
   ]
  },
  {
   "cell_type": "code",
   "execution_count": 39,
   "metadata": {},
   "outputs": [
    {
     "name": "stderr",
     "output_type": "stream",
     "text": [
      "/Users/qiuqiuli/anaconda3/lib/python3.6/site-packages/ipykernel_launcher.py:14: SettingWithCopyWarning: \n",
      "A value is trying to be set on a copy of a slice from a DataFrame.\n",
      "Try using .loc[row_indexer,col_indexer] = value instead\n",
      "\n",
      "See the caveats in the documentation: http://pandas.pydata.org/pandas-docs/stable/indexing.html#indexing-view-versus-copy\n",
      "  \n",
      "/Users/qiuqiuli/anaconda3/lib/python3.6/site-packages/ipykernel_launcher.py:15: SettingWithCopyWarning: \n",
      "A value is trying to be set on a copy of a slice from a DataFrame.\n",
      "Try using .loc[row_indexer,col_indexer] = value instead\n",
      "\n",
      "See the caveats in the documentation: http://pandas.pydata.org/pandas-docs/stable/indexing.html#indexing-view-versus-copy\n",
      "  from ipykernel import kernelapp as app\n",
      "INFO:fbprophet.forecaster:Disabling daily seasonality. Run prophet with daily_seasonality=True to override this.\n",
      "INFO:fbprophet.forecaster:Disabling daily seasonality. Run prophet with daily_seasonality=True to override this.\n"
     ]
    },
    {
     "name": "stdout",
     "output_type": "stream",
     "text": [
      "Buellton PREDICT_error: 0.4966603785756574\n"
     ]
    },
    {
     "name": "stderr",
     "output_type": "stream",
     "text": [
      "INFO:fbprophet.forecaster:Disabling daily seasonality. Run prophet with daily_seasonality=True to override this.\n"
     ]
    },
    {
     "name": "stdout",
     "output_type": "stream",
     "text": [
      "Darien PREDICT_error: 0.618723770349502\n"
     ]
    },
    {
     "name": "stderr",
     "output_type": "stream",
     "text": [
      "INFO:fbprophet.forecaster:Disabling daily seasonality. Run prophet with daily_seasonality=True to override this.\n"
     ]
    },
    {
     "name": "stdout",
     "output_type": "stream",
     "text": [
      "Grayson PREDICT_error: 0.7463021571672758\n"
     ]
    },
    {
     "name": "stderr",
     "output_type": "stream",
     "text": [
      "INFO:fbprophet.forecaster:Disabling daily seasonality. Run prophet with daily_seasonality=True to override this.\n"
     ]
    },
    {
     "name": "stdout",
     "output_type": "stream",
     "text": [
      "Galax PREDICT_error: 0.48276290032228847\n"
     ]
    },
    {
     "name": "stderr",
     "output_type": "stream",
     "text": [
      "INFO:fbprophet.forecaster:Disabling daily seasonality. Run prophet with daily_seasonality=True to override this.\n"
     ]
    },
    {
     "name": "stdout",
     "output_type": "stream",
     "text": [
      "Farmington PREDICT_error: 0.6066970114195391\n"
     ]
    },
    {
     "name": "stderr",
     "output_type": "stream",
     "text": [
      "INFO:fbprophet.forecaster:Disabling daily seasonality. Run prophet with daily_seasonality=True to override this.\n"
     ]
    },
    {
     "name": "stdout",
     "output_type": "stream",
     "text": [
      "Dardenne Prairie PREDICT_error: 0.6864524507171631\n"
     ]
    },
    {
     "name": "stderr",
     "output_type": "stream",
     "text": [
      "INFO:fbprophet.forecaster:Disabling daily seasonality. Run prophet with daily_seasonality=True to override this.\n"
     ]
    },
    {
     "name": "stdout",
     "output_type": "stream",
     "text": [
      "Grosse Pointe Park PREDICT_error: 0.2854176342779843\n"
     ]
    },
    {
     "name": "stderr",
     "output_type": "stream",
     "text": [
      "INFO:fbprophet.forecaster:Disabling daily seasonality. Run prophet with daily_seasonality=True to override this.\n"
     ]
    },
    {
     "name": "stdout",
     "output_type": "stream",
     "text": [
      "Cahokia PREDICT_error: 0.4557577981671992\n"
     ]
    },
    {
     "name": "stderr",
     "output_type": "stream",
     "text": [
      "INFO:fbprophet.forecaster:Disabling daily seasonality. Run prophet with daily_seasonality=True to override this.\n"
     ]
    },
    {
     "name": "stdout",
     "output_type": "stream",
     "text": [
      "Cedarburg PREDICT_error: 0.12151573196907965\n"
     ]
    },
    {
     "name": "stderr",
     "output_type": "stream",
     "text": [
      "INFO:fbprophet.forecaster:Disabling daily seasonality. Run prophet with daily_seasonality=True to override this.\n"
     ]
    },
    {
     "name": "stdout",
     "output_type": "stream",
     "text": [
      "Canal Fulton PREDICT_error: 0.5890545810213003\n"
     ]
    },
    {
     "name": "stderr",
     "output_type": "stream",
     "text": [
      "INFO:fbprophet.forecaster:Disabling daily seasonality. Run prophet with daily_seasonality=True to override this.\n"
     ]
    },
    {
     "name": "stdout",
     "output_type": "stream",
     "text": [
      "Cheney PREDICT_error: 0.07333608284820678\n"
     ]
    },
    {
     "name": "stderr",
     "output_type": "stream",
     "text": [
      "INFO:fbprophet.forecaster:Disabling daily seasonality. Run prophet with daily_seasonality=True to override this.\n"
     ]
    },
    {
     "name": "stdout",
     "output_type": "stream",
     "text": [
      "Catasauqua PREDICT_error: 0.27634810562998924\n"
     ]
    },
    {
     "name": "stderr",
     "output_type": "stream",
     "text": [
      "INFO:fbprophet.forecaster:Disabling daily seasonality. Run prophet with daily_seasonality=True to override this.\n"
     ]
    },
    {
     "name": "stdout",
     "output_type": "stream",
     "text": [
      "Collegeville PREDICT_error: 0.5989064957757978\n"
     ]
    },
    {
     "name": "stderr",
     "output_type": "stream",
     "text": [
      "INFO:fbprophet.forecaster:Disabling daily seasonality. Run prophet with daily_seasonality=True to override this.\n"
     ]
    },
    {
     "name": "stdout",
     "output_type": "stream",
     "text": [
      "Elburn PREDICT_error: 0.5502708627235531\n"
     ]
    },
    {
     "name": "stderr",
     "output_type": "stream",
     "text": [
      "INFO:fbprophet.forecaster:Disabling daily seasonality. Run prophet with daily_seasonality=True to override this.\n"
     ]
    },
    {
     "name": "stdout",
     "output_type": "stream",
     "text": [
      "Collingdale PREDICT_error: 0.16440899462056333\n"
     ]
    },
    {
     "name": "stderr",
     "output_type": "stream",
     "text": [
      "INFO:fbprophet.forecaster:Disabling daily seasonality. Run prophet with daily_seasonality=True to override this.\n"
     ]
    },
    {
     "name": "stdout",
     "output_type": "stream",
     "text": [
      "Cheraw PREDICT_error: 0.13979265238615696\n",
      "Crockett PREDICT_error: 0.6064349051776904\n"
     ]
    }
   ],
   "source": [
    "f=pd.read_csv('LRU_order_among_the_years.csv', header=1)\n",
    "\n",
    "\n",
    "# delete the first line \n",
    "f=f.drop(f.index[0])\n",
    "f.reset_index(drop=True, inplace=True)\n",
    "\n",
    "# List to save every prediction errors and we can calculate their mean as overall error afterwards\n",
    "error_list = []\n",
    "\n",
    "#choose the spare part we want, delete other colomns  and change the formula to do ''Prophet'' training\n",
    "for PARA in list3:\n",
    "    df=f[['LRU',PARA]]\n",
    "    df['ds'] = df['LRU']\n",
    "    df['y'] = df[PARA]\n",
    "    df = df.drop(['LRU',PARA],axis=1)\n",
    "    ## do the sum of commandes and get the new list  \n",
    "    Sum_Aberaeron = df\n",
    "    Sum_Aberaeron.reset_index(drop=True, inplace=True)\n",
    "    Sum_Aberaeron['ds'] = pd.to_datetime(Sum_Aberaeron['ds'])\n",
    "    Sum_Aberaeron.sort_values('ds',inplace=True)\n",
    "    Sum_Aberaeron['cumsum']=Sum_Aberaeron['y'].cumsum()\n",
    "    Sum_Aberaeron['y']=Sum_Aberaeron['cumsum']\n",
    "    Sum_Aberaeron  =Sum_Aberaeron.drop(['cumsum'],axis=1)\n",
    "    \n",
    "    # split the training set and test set: training :'from 2009 to '20171231' , testing :'from 20180101 to '20180926' \n",
    "    train=Sum_Aberaeron[Sum_Aberaeron['ds']<'20180101']\n",
    "    test=Sum_Aberaeron[Sum_Aberaeron['ds']>'20171231']\n",
    "    \n",
    "    #prophet traing\n",
    "    m = Prophet(growth='linear', changepoints=None, n_changepoints=25, changepoint_range=0.8, yearly_seasonality='auto', weekly_seasonality='auto', daily_seasonality='auto', holidays=None, seasonality_mode='additive', seasonality_prior_scale=10.0, holidays_prior_scale=10.0, changepoint_prior_scale=0.05, mcmc_samples=0, interval_width=0.8, uncertainty_samples=1000)\n",
    "    m.fit(train)\n",
    "    forecast = m.predict(test)\n",
    "    \n",
    " # calculate the grow rate in year 2018  for both the true data and prediction\n",
    "    firstday = forecast[forecast['ds']=='20180101']\n",
    "    lastday = forecast[forecast['ds']=='20180926']\n",
    "    agg_2018_pre= (lastday['yhat'].values[0] - firstday['yhat'].values[0])\n",
    "    #print(PARA+' predicted command number in 2018 : ' +str(agg_2018_pre))\n",
    "\n",
    "    # print(\"Generalization error: %g\"%(1.-rf.score(Xtest,ytest)))\n",
    "\n",
    "    firstday_test = test[test['ds']=='20180101']\n",
    "    lastday_test = test[test['ds']=='20180926']\n",
    "    agg_2018 = (lastday_test['y'].values[0] - firstday_test['y'].values[0])\n",
    "    #print(PARA+' true command number in 2018: ' + str(agg_2018))\n",
    "\n",
    "    #calculate the prediction error\n",
    "    error=np.abs(agg_2018-agg_2018_pre)/agg_2018 \n",
    "    print(PARA+' PREDICT_error: ' + str(error ))\n",
    "    error_list.append(error)"
   ]
  },
  {
   "cell_type": "code",
   "execution_count": 40,
   "metadata": {},
   "outputs": [
    {
     "name": "stdout",
     "output_type": "stream",
     "text": [
      "0.4411083831264086\n",
      "0.21136980889134618\n"
     ]
    }
   ],
   "source": [
    "print(np.mean(error_list))\n",
    "print(np.std(error_list))"
   ]
  },
  {
   "cell_type": "markdown",
   "metadata": {},
   "source": [
    "### list1\n",
    "0.1: mean 0.51 std 0.07\n",
    "\n",
    "0.5: mean 0.058 std 0.029\n",
    "\n",
    "0.8: mean 0.13 std 0.11\n",
    "\n",
    "### list2\n",
    "0.1: mean 0.54 std 0.1\n",
    "\n",
    "0.5: mean 0.23 std 0.08\n",
    "\n",
    "0.8: mean 0.27 std 0.15\n",
    "\n",
    "### list3\n",
    "0.1: mean 0.64 std 0.26\n",
    "\n",
    "0.5: mean 0.57 std 0.12\n",
    "\n",
    "0.8: mean 0.51 std 0.28\n",
    "\n",
    "1.0: mean "
   ]
  }
 ],
 "metadata": {
  "kernelspec": {
   "display_name": "Python 3",
   "language": "python",
   "name": "python3"
  },
  "language_info": {
   "codemirror_mode": {
    "name": "ipython",
    "version": 3
   },
   "file_extension": ".py",
   "mimetype": "text/x-python",
   "name": "python",
   "nbconvert_exporter": "python",
   "pygments_lexer": "ipython3",
   "version": "3.6.5"
  }
 },
 "nbformat": 4,
 "nbformat_minor": 2
}
