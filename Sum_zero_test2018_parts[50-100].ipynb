{
 "cells": [
  {
   "cell_type": "markdown",
   "metadata": {},
   "source": [
    "### We want to get the best Prophet prediction for spare parts whose command number is between 50-100. So we use the data from 09-17 as training data and 2018 as test data. We want to find the best  prophet paramater 'espically chang_point rate'  that can mininser the overall error"
   ]
  },
  {
   "cell_type": "code",
   "execution_count": 58,
   "metadata": {},
   "outputs": [],
   "source": [
    "## import and load in\n",
    "import pandas as pd\n",
    "import numpy as np\n",
    "from fbprophet import Prophet\n",
    "import os"
   ]
  },
  {
   "cell_type": "code",
   "execution_count": 61,
   "metadata": {},
   "outputs": [
    {
     "data": {
      "text/plain": [
       "Index(['Alliance', 'Ankeny', 'Darlington', 'Greensboro', 'Chelan',\n",
       "       'Columbiana', 'Dayton', 'Clifton', 'Cleveland Heights', 'Elgin',\n",
       "       'Alice', 'Bucyrus', 'Ammon', 'Cedar Hills', 'Ferriday', 'Fowler',\n",
       "       'Groveland', 'Galesburg', 'Floresville', 'Gloucester City', 'Gramercy',\n",
       "       'Glenwood', 'Camas', 'Faribault', 'Charleston', 'Cedarhurst',\n",
       "       'Fountain Valley', 'Columbus', 'Dickson City', 'Alpine', 'Crookston',\n",
       "       'Bay Minette', 'Garner', 'Grenoble', 'Catoosa', 'Farmers Branch',\n",
       "       'Buckeye', 'El Campo', 'Erie', 'Cullman', 'Fargo', 'Bonita Springs',\n",
       "       'Alamogordo', 'Elkton', 'Gas City', 'Fletcher', 'Davidson',\n",
       "       'Florissant', 'Ellensburg', 'Center Point', 'Alamo Heights', 'Giffnock',\n",
       "       'Florida City', 'Grayslake', 'Altus', 'El Monte', 'Campbellsville',\n",
       "       'Camberwell', 'Glenn Heights', 'Flower Mound', 'Benton Harbor', 'Canby',\n",
       "       'Coleraine', 'Fountain Inn', 'Gillespie', 'Elkin', 'Gaffney',\n",
       "       'Bensenville', 'Carteret', 'Bryan'],\n",
       "      dtype='object', name='item')"
      ]
     },
     "execution_count": 61,
     "metadata": {},
     "output_type": "execute_result"
    }
   ],
   "source": [
    "# select the name whose total command is between 50-100 and save them in PARAs\n",
    "df1 = pd.read_excel(\"encoded_pic_septembre_2018.xlsx\")\n",
    "df2=df1.groupby(by=['item',df1.index]).sum()\n",
    "df3=df2.groupby(['item']).size()\n",
    "df4 = df3.sort_values()\n",
    "PARAs = df4[1450:1520].index\n",
    "# 50 - 100: 1450 - 1520"
   ]
  },
  {
   "cell_type": "code",
   "execution_count": 88,
   "metadata": {},
   "outputs": [
    {
     "name": "stderr",
     "output_type": "stream",
     "text": [
      "/Users/qiuqiuli/anaconda3/lib/python3.6/site-packages/ipykernel_launcher.py:18: SettingWithCopyWarning: \n",
      "A value is trying to be set on a copy of a slice from a DataFrame.\n",
      "Try using .loc[row_indexer,col_indexer] = value instead\n",
      "\n",
      "See the caveats in the documentation: http://pandas.pydata.org/pandas-docs/stable/indexing.html#indexing-view-versus-copy\n",
      "/Users/qiuqiuli/anaconda3/lib/python3.6/site-packages/ipykernel_launcher.py:19: SettingWithCopyWarning: \n",
      "A value is trying to be set on a copy of a slice from a DataFrame.\n",
      "Try using .loc[row_indexer,col_indexer] = value instead\n",
      "\n",
      "See the caveats in the documentation: http://pandas.pydata.org/pandas-docs/stable/indexing.html#indexing-view-versus-copy\n",
      "INFO:fbprophet.forecaster:Disabling daily seasonality. Run prophet with daily_seasonality=True to override this.\n",
      "INFO:fbprophet.forecaster:Disabling daily seasonality. Run prophet with daily_seasonality=True to override this.\n"
     ]
    },
    {
     "name": "stdout",
     "output_type": "stream",
     "text": [
      "Alliance PREDICT_error: 0.9872462401506036\n"
     ]
    },
    {
     "name": "stderr",
     "output_type": "stream",
     "text": [
      "INFO:fbprophet.forecaster:Disabling daily seasonality. Run prophet with daily_seasonality=True to override this.\n"
     ]
    },
    {
     "name": "stdout",
     "output_type": "stream",
     "text": [
      "Ankeny PREDICT_error: 1.7773681401142092\n"
     ]
    },
    {
     "name": "stderr",
     "output_type": "stream",
     "text": [
      "INFO:fbprophet.forecaster:Disabling daily seasonality. Run prophet with daily_seasonality=True to override this.\n"
     ]
    },
    {
     "name": "stdout",
     "output_type": "stream",
     "text": [
      "Darlington PREDICT_error: 0.4168289617725054\n"
     ]
    },
    {
     "name": "stderr",
     "output_type": "stream",
     "text": [
      "INFO:fbprophet.forecaster:Disabling daily seasonality. Run prophet with daily_seasonality=True to override this.\n"
     ]
    },
    {
     "name": "stdout",
     "output_type": "stream",
     "text": [
      "Greensboro PREDICT_error: 0.37139017173413863\n"
     ]
    },
    {
     "name": "stderr",
     "output_type": "stream",
     "text": [
      "INFO:fbprophet.forecaster:Disabling daily seasonality. Run prophet with daily_seasonality=True to override this.\n"
     ]
    },
    {
     "name": "stdout",
     "output_type": "stream",
     "text": [
      "Chelan PREDICT_error: 25.9335336627517\n"
     ]
    },
    {
     "name": "stderr",
     "output_type": "stream",
     "text": [
      "INFO:fbprophet.forecaster:Disabling daily seasonality. Run prophet with daily_seasonality=True to override this.\n"
     ]
    },
    {
     "name": "stdout",
     "output_type": "stream",
     "text": [
      "Columbiana PREDICT_error: 0.0789737344378409\n"
     ]
    },
    {
     "name": "stderr",
     "output_type": "stream",
     "text": [
      "INFO:fbprophet.forecaster:Disabling daily seasonality. Run prophet with daily_seasonality=True to override this.\n"
     ]
    },
    {
     "name": "stdout",
     "output_type": "stream",
     "text": [
      "Dayton PREDICT_error: 0.7641520547095131\n"
     ]
    },
    {
     "name": "stderr",
     "output_type": "stream",
     "text": [
      "INFO:fbprophet.forecaster:Disabling daily seasonality. Run prophet with daily_seasonality=True to override this.\n"
     ]
    },
    {
     "name": "stdout",
     "output_type": "stream",
     "text": [
      "Clifton PREDICT_error: 0.14309700595054053\n"
     ]
    },
    {
     "name": "stderr",
     "output_type": "stream",
     "text": [
      "/Users/qiuqiuli/anaconda3/lib/python3.6/site-packages/ipykernel_launcher.py:53: RuntimeWarning: divide by zero encountered in double_scalars\n",
      "INFO:fbprophet.forecaster:Disabling daily seasonality. Run prophet with daily_seasonality=True to override this.\n"
     ]
    },
    {
     "name": "stdout",
     "output_type": "stream",
     "text": [
      "Cleveland Heights PREDICT_error: inf\n"
     ]
    },
    {
     "name": "stderr",
     "output_type": "stream",
     "text": [
      "INFO:fbprophet.forecaster:Disabling daily seasonality. Run prophet with daily_seasonality=True to override this.\n"
     ]
    },
    {
     "name": "stdout",
     "output_type": "stream",
     "text": [
      "Elgin PREDICT_error: 0.2352836620478167\n"
     ]
    },
    {
     "name": "stderr",
     "output_type": "stream",
     "text": [
      "INFO:fbprophet.forecaster:Disabling daily seasonality. Run prophet with daily_seasonality=True to override this.\n"
     ]
    },
    {
     "name": "stdout",
     "output_type": "stream",
     "text": [
      "Alice PREDICT_error: 0.9878455643775387\n"
     ]
    },
    {
     "name": "stderr",
     "output_type": "stream",
     "text": [
      "INFO:fbprophet.forecaster:Disabling daily seasonality. Run prophet with daily_seasonality=True to override this.\n"
     ]
    },
    {
     "name": "stdout",
     "output_type": "stream",
     "text": [
      "Bucyrus PREDICT_error: 0.4608741397793262\n"
     ]
    },
    {
     "name": "stderr",
     "output_type": "stream",
     "text": [
      "INFO:fbprophet.forecaster:Disabling daily seasonality. Run prophet with daily_seasonality=True to override this.\n"
     ]
    },
    {
     "name": "stdout",
     "output_type": "stream",
     "text": [
      "Ammon PREDICT_error: 0.998165981378159\n"
     ]
    },
    {
     "name": "stderr",
     "output_type": "stream",
     "text": [
      "INFO:fbprophet.forecaster:Disabling daily seasonality. Run prophet with daily_seasonality=True to override this.\n"
     ]
    },
    {
     "name": "stdout",
     "output_type": "stream",
     "text": [
      "Cedar Hills PREDICT_error: 0.0062275814704968015\n"
     ]
    },
    {
     "name": "stderr",
     "output_type": "stream",
     "text": [
      "INFO:fbprophet.forecaster:Disabling daily seasonality. Run prophet with daily_seasonality=True to override this.\n"
     ]
    },
    {
     "name": "stdout",
     "output_type": "stream",
     "text": [
      "Ferriday PREDICT_error: 0.10773783688140424\n"
     ]
    },
    {
     "name": "stderr",
     "output_type": "stream",
     "text": [
      "INFO:fbprophet.forecaster:Disabling daily seasonality. Run prophet with daily_seasonality=True to override this.\n"
     ]
    },
    {
     "name": "stdout",
     "output_type": "stream",
     "text": [
      "Fowler PREDICT_error: 1.7135790604750802\n"
     ]
    },
    {
     "name": "stderr",
     "output_type": "stream",
     "text": [
      "INFO:fbprophet.forecaster:Disabling daily seasonality. Run prophet with daily_seasonality=True to override this.\n"
     ]
    },
    {
     "name": "stdout",
     "output_type": "stream",
     "text": [
      "Groveland PREDICT_error: 0.4842863876451526\n"
     ]
    },
    {
     "name": "stderr",
     "output_type": "stream",
     "text": [
      "INFO:fbprophet.forecaster:Disabling daily seasonality. Run prophet with daily_seasonality=True to override this.\n"
     ]
    },
    {
     "name": "stdout",
     "output_type": "stream",
     "text": [
      "Galesburg PREDICT_error: 0.6507197936459088\n"
     ]
    },
    {
     "name": "stderr",
     "output_type": "stream",
     "text": [
      "INFO:fbprophet.forecaster:Disabling daily seasonality. Run prophet with daily_seasonality=True to override this.\n"
     ]
    },
    {
     "name": "stdout",
     "output_type": "stream",
     "text": [
      "Floresville PREDICT_error: 0.9974959848772852\n"
     ]
    },
    {
     "name": "stderr",
     "output_type": "stream",
     "text": [
      "INFO:fbprophet.forecaster:Disabling daily seasonality. Run prophet with daily_seasonality=True to override this.\n"
     ]
    },
    {
     "name": "stdout",
     "output_type": "stream",
     "text": [
      "Gloucester City PREDICT_error: 0.5399606341643237\n"
     ]
    },
    {
     "name": "stderr",
     "output_type": "stream",
     "text": [
      "INFO:fbprophet.forecaster:Disabling daily seasonality. Run prophet with daily_seasonality=True to override this.\n"
     ]
    },
    {
     "name": "stdout",
     "output_type": "stream",
     "text": [
      "Gramercy PREDICT_error: 1.9671527343677013\n"
     ]
    },
    {
     "name": "stderr",
     "output_type": "stream",
     "text": [
      "INFO:fbprophet.forecaster:Disabling daily seasonality. Run prophet with daily_seasonality=True to override this.\n"
     ]
    },
    {
     "name": "stdout",
     "output_type": "stream",
     "text": [
      "Glenwood PREDICT_error: 0.23643749079426984\n"
     ]
    },
    {
     "name": "stderr",
     "output_type": "stream",
     "text": [
      "INFO:fbprophet.forecaster:Disabling daily seasonality. Run prophet with daily_seasonality=True to override this.\n"
     ]
    },
    {
     "name": "stdout",
     "output_type": "stream",
     "text": [
      "Camas PREDICT_error: 0.9806060540959086\n"
     ]
    },
    {
     "name": "stderr",
     "output_type": "stream",
     "text": [
      "INFO:fbprophet.forecaster:Disabling daily seasonality. Run prophet with daily_seasonality=True to override this.\n"
     ]
    },
    {
     "name": "stdout",
     "output_type": "stream",
     "text": [
      "Faribault PREDICT_error: 0.31830602001090114\n"
     ]
    },
    {
     "name": "stderr",
     "output_type": "stream",
     "text": [
      "INFO:fbprophet.forecaster:Disabling daily seasonality. Run prophet with daily_seasonality=True to override this.\n"
     ]
    },
    {
     "name": "stdout",
     "output_type": "stream",
     "text": [
      "Charleston PREDICT_error: 0.8670646438654543\n"
     ]
    },
    {
     "name": "stderr",
     "output_type": "stream",
     "text": [
      "INFO:fbprophet.forecaster:Disabling daily seasonality. Run prophet with daily_seasonality=True to override this.\n"
     ]
    },
    {
     "name": "stdout",
     "output_type": "stream",
     "text": [
      "Cedarhurst PREDICT_error: 0.08444966506451337\n"
     ]
    },
    {
     "name": "stderr",
     "output_type": "stream",
     "text": [
      "INFO:fbprophet.forecaster:Disabling daily seasonality. Run prophet with daily_seasonality=True to override this.\n"
     ]
    },
    {
     "name": "stdout",
     "output_type": "stream",
     "text": [
      "Fountain Valley PREDICT_error: 1.01604770512906\n"
     ]
    },
    {
     "name": "stderr",
     "output_type": "stream",
     "text": [
      "INFO:fbprophet.forecaster:Disabling daily seasonality. Run prophet with daily_seasonality=True to override this.\n"
     ]
    },
    {
     "name": "stdout",
     "output_type": "stream",
     "text": [
      "Columbus PREDICT_error: 0.7925740090796264\n"
     ]
    },
    {
     "name": "stderr",
     "output_type": "stream",
     "text": [
      "INFO:fbprophet.forecaster:Disabling daily seasonality. Run prophet with daily_seasonality=True to override this.\n"
     ]
    },
    {
     "name": "stdout",
     "output_type": "stream",
     "text": [
      "Dickson City PREDICT_error: 0.06851981716203684\n"
     ]
    },
    {
     "name": "stderr",
     "output_type": "stream",
     "text": [
      "INFO:fbprophet.forecaster:Disabling daily seasonality. Run prophet with daily_seasonality=True to override this.\n"
     ]
    },
    {
     "name": "stdout",
     "output_type": "stream",
     "text": [
      "Alpine PREDICT_error: 1.0\n"
     ]
    },
    {
     "name": "stderr",
     "output_type": "stream",
     "text": [
      "INFO:fbprophet.forecaster:Disabling daily seasonality. Run prophet with daily_seasonality=True to override this.\n"
     ]
    },
    {
     "name": "stdout",
     "output_type": "stream",
     "text": [
      "Crookston PREDICT_error: 0.38970763344416987\n"
     ]
    },
    {
     "name": "stderr",
     "output_type": "stream",
     "text": [
      "INFO:fbprophet.forecaster:Disabling daily seasonality. Run prophet with daily_seasonality=True to override this.\n"
     ]
    },
    {
     "name": "stdout",
     "output_type": "stream",
     "text": [
      "Bay Minette PREDICT_error: 0.04725839905301657\n"
     ]
    },
    {
     "name": "stderr",
     "output_type": "stream",
     "text": [
      "INFO:fbprophet.forecaster:Disabling daily seasonality. Run prophet with daily_seasonality=True to override this.\n"
     ]
    },
    {
     "name": "stdout",
     "output_type": "stream",
     "text": [
      "Garner PREDICT_error: 0.24735003347304196\n"
     ]
    },
    {
     "name": "stderr",
     "output_type": "stream",
     "text": [
      "INFO:fbprophet.forecaster:Disabling daily seasonality. Run prophet with daily_seasonality=True to override this.\n"
     ]
    },
    {
     "name": "stdout",
     "output_type": "stream",
     "text": [
      "Grenoble PREDICT_error: 0.7971712488817104\n"
     ]
    },
    {
     "name": "stderr",
     "output_type": "stream",
     "text": [
      "INFO:fbprophet.forecaster:Disabling daily seasonality. Run prophet with daily_seasonality=True to override this.\n"
     ]
    },
    {
     "name": "stdout",
     "output_type": "stream",
     "text": [
      "Catoosa PREDICT_error: 0.29648991004500214\n"
     ]
    },
    {
     "name": "stderr",
     "output_type": "stream",
     "text": [
      "INFO:fbprophet.forecaster:Disabling daily seasonality. Run prophet with daily_seasonality=True to override this.\n"
     ]
    },
    {
     "name": "stdout",
     "output_type": "stream",
     "text": [
      "Farmers Branch PREDICT_error: 0.2370611896717557\n"
     ]
    },
    {
     "name": "stderr",
     "output_type": "stream",
     "text": [
      "INFO:fbprophet.forecaster:Disabling daily seasonality. Run prophet with daily_seasonality=True to override this.\n"
     ]
    },
    {
     "name": "stdout",
     "output_type": "stream",
     "text": [
      "Buckeye PREDICT_error: 0.538846673018393\n"
     ]
    },
    {
     "name": "stderr",
     "output_type": "stream",
     "text": [
      "INFO:fbprophet.forecaster:Disabling daily seasonality. Run prophet with daily_seasonality=True to override this.\n"
     ]
    },
    {
     "name": "stdout",
     "output_type": "stream",
     "text": [
      "El Campo PREDICT_error: 0.04720470086174089\n"
     ]
    },
    {
     "name": "stderr",
     "output_type": "stream",
     "text": [
      "INFO:fbprophet.forecaster:Disabling daily seasonality. Run prophet with daily_seasonality=True to override this.\n"
     ]
    },
    {
     "name": "stdout",
     "output_type": "stream",
     "text": [
      "Erie PREDICT_error: 1.6720661860900243\n"
     ]
    },
    {
     "name": "stderr",
     "output_type": "stream",
     "text": [
      "INFO:fbprophet.forecaster:Disabling daily seasonality. Run prophet with daily_seasonality=True to override this.\n"
     ]
    },
    {
     "name": "stdout",
     "output_type": "stream",
     "text": [
      "Cullman PREDICT_error: 0.5401495176237325\n"
     ]
    },
    {
     "name": "stderr",
     "output_type": "stream",
     "text": [
      "INFO:fbprophet.forecaster:Disabling daily seasonality. Run prophet with daily_seasonality=True to override this.\n"
     ]
    },
    {
     "name": "stdout",
     "output_type": "stream",
     "text": [
      "Fargo PREDICT_error: 0.1898727159754592\n"
     ]
    },
    {
     "name": "stderr",
     "output_type": "stream",
     "text": [
      "INFO:fbprophet.forecaster:Disabling daily seasonality. Run prophet with daily_seasonality=True to override this.\n"
     ]
    },
    {
     "name": "stdout",
     "output_type": "stream",
     "text": [
      "Bonita Springs PREDICT_error: 0.3981237914192197\n"
     ]
    },
    {
     "name": "stderr",
     "output_type": "stream",
     "text": [
      "INFO:fbprophet.forecaster:Disabling daily seasonality. Run prophet with daily_seasonality=True to override this.\n"
     ]
    },
    {
     "name": "stdout",
     "output_type": "stream",
     "text": [
      "Alamogordo PREDICT_error: 1.6361742119364695\n"
     ]
    },
    {
     "name": "stderr",
     "output_type": "stream",
     "text": [
      "INFO:fbprophet.forecaster:Disabling daily seasonality. Run prophet with daily_seasonality=True to override this.\n"
     ]
    },
    {
     "name": "stdout",
     "output_type": "stream",
     "text": [
      "Elkton PREDICT_error: 0.4897097895239968\n"
     ]
    },
    {
     "name": "stderr",
     "output_type": "stream",
     "text": [
      "INFO:fbprophet.forecaster:Disabling daily seasonality. Run prophet with daily_seasonality=True to override this.\n"
     ]
    },
    {
     "name": "stdout",
     "output_type": "stream",
     "text": [
      "Gas City PREDICT_error: 0.3262196961719849\n"
     ]
    },
    {
     "name": "stderr",
     "output_type": "stream",
     "text": [
      "INFO:fbprophet.forecaster:Disabling daily seasonality. Run prophet with daily_seasonality=True to override this.\n"
     ]
    },
    {
     "name": "stdout",
     "output_type": "stream",
     "text": [
      "Fletcher PREDICT_error: 1.6693785314498086\n"
     ]
    },
    {
     "name": "stderr",
     "output_type": "stream",
     "text": [
      "INFO:fbprophet.forecaster:Disabling daily seasonality. Run prophet with daily_seasonality=True to override this.\n"
     ]
    },
    {
     "name": "stdout",
     "output_type": "stream",
     "text": [
      "Davidson PREDICT_error: 0.7120912079083861\n"
     ]
    },
    {
     "name": "stderr",
     "output_type": "stream",
     "text": [
      "INFO:fbprophet.forecaster:Disabling daily seasonality. Run prophet with daily_seasonality=True to override this.\n"
     ]
    },
    {
     "name": "stdout",
     "output_type": "stream",
     "text": [
      "Florissant PREDICT_error: 0.23765648988270627\n"
     ]
    },
    {
     "name": "stderr",
     "output_type": "stream",
     "text": [
      "INFO:fbprophet.forecaster:Disabling daily seasonality. Run prophet with daily_seasonality=True to override this.\n"
     ]
    },
    {
     "name": "stdout",
     "output_type": "stream",
     "text": [
      "Ellensburg PREDICT_error: 0.1381872295986009\n"
     ]
    },
    {
     "name": "stderr",
     "output_type": "stream",
     "text": [
      "INFO:fbprophet.forecaster:Disabling daily seasonality. Run prophet with daily_seasonality=True to override this.\n"
     ]
    },
    {
     "name": "stdout",
     "output_type": "stream",
     "text": [
      "Center Point PREDICT_error: 0.24217486426895823\n"
     ]
    },
    {
     "name": "stderr",
     "output_type": "stream",
     "text": [
      "INFO:fbprophet.forecaster:Disabling daily seasonality. Run prophet with daily_seasonality=True to override this.\n"
     ]
    },
    {
     "name": "stdout",
     "output_type": "stream",
     "text": [
      "Alamo Heights PREDICT_error: 1.4127206916917203\n"
     ]
    },
    {
     "name": "stderr",
     "output_type": "stream",
     "text": [
      "INFO:fbprophet.forecaster:Disabling daily seasonality. Run prophet with daily_seasonality=True to override this.\n"
     ]
    },
    {
     "name": "stdout",
     "output_type": "stream",
     "text": [
      "Giffnock PREDICT_error: 0.19052662319514974\n"
     ]
    },
    {
     "name": "stderr",
     "output_type": "stream",
     "text": [
      "INFO:fbprophet.forecaster:Disabling daily seasonality. Run prophet with daily_seasonality=True to override this.\n"
     ]
    },
    {
     "name": "stdout",
     "output_type": "stream",
     "text": [
      "Florida City PREDICT_error: 0.7238240167986353\n"
     ]
    },
    {
     "name": "stderr",
     "output_type": "stream",
     "text": [
      "INFO:fbprophet.forecaster:Disabling daily seasonality. Run prophet with daily_seasonality=True to override this.\n"
     ]
    },
    {
     "name": "stdout",
     "output_type": "stream",
     "text": [
      "Grayslake PREDICT_error: 0.5704905639038165\n"
     ]
    },
    {
     "name": "stderr",
     "output_type": "stream",
     "text": [
      "INFO:fbprophet.forecaster:Disabling daily seasonality. Run prophet with daily_seasonality=True to override this.\n"
     ]
    },
    {
     "name": "stdout",
     "output_type": "stream",
     "text": [
      "Altus PREDICT_error: 0.994691989613018\n"
     ]
    },
    {
     "name": "stderr",
     "output_type": "stream",
     "text": [
      "INFO:fbprophet.forecaster:Disabling daily seasonality. Run prophet with daily_seasonality=True to override this.\n"
     ]
    },
    {
     "name": "stdout",
     "output_type": "stream",
     "text": [
      "El Monte PREDICT_error: 0.5767449130836112\n"
     ]
    },
    {
     "name": "stderr",
     "output_type": "stream",
     "text": [
      "INFO:fbprophet.forecaster:Disabling daily seasonality. Run prophet with daily_seasonality=True to override this.\n"
     ]
    },
    {
     "name": "stdout",
     "output_type": "stream",
     "text": [
      "Campbellsville PREDICT_error: inf\n"
     ]
    },
    {
     "name": "stderr",
     "output_type": "stream",
     "text": [
      "INFO:fbprophet.forecaster:Disabling daily seasonality. Run prophet with daily_seasonality=True to override this.\n"
     ]
    },
    {
     "name": "stdout",
     "output_type": "stream",
     "text": [
      "Camberwell PREDICT_error: 0.9880902778877632\n"
     ]
    },
    {
     "name": "stderr",
     "output_type": "stream",
     "text": [
      "INFO:fbprophet.forecaster:Disabling daily seasonality. Run prophet with daily_seasonality=True to override this.\n"
     ]
    },
    {
     "name": "stdout",
     "output_type": "stream",
     "text": [
      "Glenn Heights PREDICT_error: 0.36496871062847164\n"
     ]
    },
    {
     "name": "stderr",
     "output_type": "stream",
     "text": [
      "INFO:fbprophet.forecaster:Disabling daily seasonality. Run prophet with daily_seasonality=True to override this.\n"
     ]
    },
    {
     "name": "stdout",
     "output_type": "stream",
     "text": [
      "Flower Mound PREDICT_error: 0.0602511359897347\n"
     ]
    },
    {
     "name": "stderr",
     "output_type": "stream",
     "text": [
      "INFO:fbprophet.forecaster:Disabling daily seasonality. Run prophet with daily_seasonality=True to override this.\n"
     ]
    },
    {
     "name": "stdout",
     "output_type": "stream",
     "text": [
      "Benton Harbor PREDICT_error: 0.4182280999633181\n"
     ]
    },
    {
     "name": "stderr",
     "output_type": "stream",
     "text": [
      "INFO:fbprophet.forecaster:Disabling daily seasonality. Run prophet with daily_seasonality=True to override this.\n"
     ]
    },
    {
     "name": "stdout",
     "output_type": "stream",
     "text": [
      "Canby PREDICT_error: 0.3061434667659555\n"
     ]
    },
    {
     "name": "stderr",
     "output_type": "stream",
     "text": [
      "INFO:fbprophet.forecaster:Disabling daily seasonality. Run prophet with daily_seasonality=True to override this.\n"
     ]
    },
    {
     "name": "stdout",
     "output_type": "stream",
     "text": [
      "Coleraine PREDICT_error: 0.01206597863444823\n"
     ]
    },
    {
     "name": "stderr",
     "output_type": "stream",
     "text": [
      "INFO:fbprophet.forecaster:Disabling daily seasonality. Run prophet with daily_seasonality=True to override this.\n"
     ]
    },
    {
     "name": "stdout",
     "output_type": "stream",
     "text": [
      "Fountain Inn PREDICT_error: 0.5822975684239093\n"
     ]
    },
    {
     "name": "stderr",
     "output_type": "stream",
     "text": [
      "INFO:fbprophet.forecaster:Disabling daily seasonality. Run prophet with daily_seasonality=True to override this.\n"
     ]
    },
    {
     "name": "stdout",
     "output_type": "stream",
     "text": [
      "Gillespie PREDICT_error: 0.05153874569727584\n"
     ]
    },
    {
     "name": "stderr",
     "output_type": "stream",
     "text": [
      "INFO:fbprophet.forecaster:Disabling daily seasonality. Run prophet with daily_seasonality=True to override this.\n"
     ]
    },
    {
     "name": "stdout",
     "output_type": "stream",
     "text": [
      "Elkin PREDICT_error: 0.5564555779614936\n"
     ]
    },
    {
     "name": "stderr",
     "output_type": "stream",
     "text": [
      "INFO:fbprophet.forecaster:Disabling daily seasonality. Run prophet with daily_seasonality=True to override this.\n"
     ]
    },
    {
     "name": "stdout",
     "output_type": "stream",
     "text": [
      "Gaffney PREDICT_error: 0.04695379797160228\n"
     ]
    },
    {
     "name": "stderr",
     "output_type": "stream",
     "text": [
      "INFO:fbprophet.forecaster:Disabling daily seasonality. Run prophet with daily_seasonality=True to override this.\n"
     ]
    },
    {
     "name": "stdout",
     "output_type": "stream",
     "text": [
      "Bensenville PREDICT_error: 0.5426667919021052\n"
     ]
    },
    {
     "name": "stderr",
     "output_type": "stream",
     "text": [
      "INFO:fbprophet.forecaster:Disabling daily seasonality. Run prophet with daily_seasonality=True to override this.\n"
     ]
    },
    {
     "name": "stdout",
     "output_type": "stream",
     "text": [
      "Carteret PREDICT_error: 0.43488720809359954\n",
      "Bryan PREDICT_error: 0.5455078109884921\n"
     ]
    }
   ],
   "source": [
    "f=pd.read_csv('LRU_order_among_the_years.csv', header=1)\n",
    "\n",
    "\n",
    "# delete the first line \n",
    "f=f.drop(f.index[0])\n",
    "f.reset_index(drop=True, inplace=True)\n",
    "\n",
    "# List to save every prediction errors and we can calculate their mean as overall error afterwards\n",
    "error_list = []\n",
    "\n",
    "best_list=[]\n",
    "moyenne_list=[]\n",
    "worst_list=[]\n",
    "\n",
    "#choose the spare part we want, delete other colomns  and change the formula to do ''Prophet'' training\n",
    "for PARA in PARAs:\n",
    "    df=f[['LRU',PARA]]\n",
    "    df['ds'] = df['LRU']\n",
    "    df['y'] = df[PARA]\n",
    "    df = df.drop(['LRU',PARA],axis=1)\n",
    "    ## do the sum of commandes and get the new list  \n",
    "    Sum_Aberaeron = df\n",
    "    Sum_Aberaeron.reset_index(drop=True, inplace=True)\n",
    "    Sum_Aberaeron['ds'] = pd.to_datetime(Sum_Aberaeron['ds'])\n",
    "    Sum_Aberaeron.sort_values('ds',inplace=True)\n",
    "    Sum_Aberaeron['cumsum']=Sum_Aberaeron['y'].cumsum()\n",
    "    Sum_Aberaeron['y']=Sum_Aberaeron['cumsum']\n",
    "    Sum_Aberaeron  =Sum_Aberaeron.drop(['cumsum'],axis=1)\n",
    "    \n",
    "    # split the training set and test set: training :'from 2009 to '20171231' , testing :'from 20180101 to '20180926' \n",
    "    train=Sum_Aberaeron[Sum_Aberaeron['ds']<'20180101']\n",
    "    test=Sum_Aberaeron[Sum_Aberaeron['ds']>'20171231']\n",
    "    \n",
    "    #prophet traing\n",
    "    m = Prophet(growth='linear', changepoints=None, n_changepoints=25, changepoint_range=0.5, yearly_seasonality='auto', weekly_seasonality='auto', daily_seasonality='auto', holidays=None, seasonality_mode='additive', seasonality_prior_scale=10.0, holidays_prior_scale=10.0, changepoint_prior_scale=0.05, mcmc_samples=0, interval_width=0.8, uncertainty_samples=1000)\n",
    "    m.fit(train)\n",
    "    forecast = m.predict(test)\n",
    "    \n",
    " # calculate the grow rate in year 2018  for both the true data and prediction\n",
    "    firstday = forecast[forecast['ds']=='20180101']\n",
    "    lastday = forecast[forecast['ds']=='20180926']\n",
    "    agg_2018_pre= (lastday['yhat'].values[0] - firstday['yhat'].values[0])\n",
    "    #print(PARA+' predicted command number in 2018 : ' +str(agg_2018_pre))\n",
    "\n",
    "    # print(\"Generalization error: %g\"%(1.-rf.score(Xtest,ytest)))\n",
    "\n",
    "    firstday_test = test[test['ds']=='20180101']\n",
    "    lastday_test = test[test['ds']=='20180926']\n",
    "    agg_2018 = (lastday_test['y'].values[0] - firstday_test['y'].values[0])\n",
    "    #print(PARA+' true command number in 2018: ' + str(agg_2018))\n",
    "\n",
    "    #calculate the prediction error\n",
    "    error=np.abs(agg_2018-agg_2018_pre)/agg_2018 \n",
    "    if error<0.1:\n",
    "        best_list.append(PARA)\n",
    "    else:\n",
    "        if error<0.4:\n",
    "            moyenne_list.append(PARA)\n",
    "        else:\n",
    "            worst_list.append(PARA)\n",
    "    print(PARA+' PREDICT_error: ' + str(error ))\n",
    "    error_list.append(error)"
   ]
  },
  {
   "cell_type": "code",
   "execution_count": 77,
   "metadata": {},
   "outputs": [
    {
     "data": {
      "text/plain": [
       "[0.0062275814704968015,\n",
       " 0.01206597863444823,\n",
       " 0.04695379797160228,\n",
       " 0.04720470086174089,\n",
       " 0.04725839905301657,\n",
       " 0.05153874569727584,\n",
       " 0.0602511359897347,\n",
       " 0.06851981716203684,\n",
       " 0.0789737344378409,\n",
       " 0.08444966506451337,\n",
       " 0.10773783688140424,\n",
       " 0.1381872295986009,\n",
       " 0.14309700595054053,\n",
       " 0.1898727159754592,\n",
       " 0.19052662319514974,\n",
       " 0.2352836620478167,\n",
       " 0.23643749079426984,\n",
       " 0.2370611896717557,\n",
       " 0.23765648988270627,\n",
       " 0.24217486426895823,\n",
       " 0.24735003347304196,\n",
       " 0.29648991004500214,\n",
       " 0.3061434667659555,\n",
       " 0.31830602001090114,\n",
       " 0.3262196961719849,\n",
       " 0.36496871062847164,\n",
       " 0.37139017173413863,\n",
       " 0.38970763344416987,\n",
       " 0.3981237914192197,\n",
       " 0.4168289617725054,\n",
       " 0.4182280999633181,\n",
       " 0.43488720809359954,\n",
       " 0.4608741397793262,\n",
       " 0.4842863876451526,\n",
       " 0.4897097895239968,\n",
       " 0.538846673018393,\n",
       " 0.5399606341643237,\n",
       " 0.5401495176237325,\n",
       " 0.5426667919021052,\n",
       " 0.5455078109884921,\n",
       " 0.5564555779614936,\n",
       " 0.5704905639038165,\n",
       " 0.5767449130836112,\n",
       " 0.5822975684239093,\n",
       " 0.6507197936459088,\n",
       " 0.7120912079083861,\n",
       " 0.7238240167986353,\n",
       " 0.7641520547095131,\n",
       " 0.7925740090796264,\n",
       " 0.7971712488817104,\n",
       " 0.8670646438654543,\n",
       " 0.9806060540959086,\n",
       " 0.9872462401506036,\n",
       " 0.9878455643775387,\n",
       " 0.9880902778877632,\n",
       " 0.994691989613018,\n",
       " 0.9974959848772852,\n",
       " 0.998165981378159,\n",
       " 1.0,\n",
       " 1.01604770512906,\n",
       " 1.4127206916917203,\n",
       " 1.6361742119364695,\n",
       " 1.6693785314498086,\n",
       " 1.6720661860900243,\n",
       " 1.7135790604750802,\n",
       " 1.7773681401142092,\n",
       " 1.9671527343677013]"
      ]
     },
     "execution_count": 77,
     "metadata": {},
     "output_type": "execute_result"
    }
   ],
   "source": [
    "error_list.sort()\n",
    "error_list.pop(-1)\n",
    "error_list.pop(-1)\n",
    "error_list.pop(-1)\n",
    "error_list"
   ]
  },
  {
   "cell_type": "code",
   "execution_count": 78,
   "metadata": {
    "scrolled": true
   },
   "outputs": [
    {
     "name": "stdout",
     "output_type": "stream",
     "text": [
      "0.5863334188757254\n",
      "0.48266399917582287\n"
     ]
    }
   ],
   "source": [
    "print(np.mean(error_list))\n",
    "print(np.std(error_list))"
   ]
  },
  {
   "cell_type": "code",
   "execution_count": 89,
   "metadata": {},
   "outputs": [
    {
     "data": {
      "text/plain": [
       "['Columbiana',\n",
       " 'Cedar Hills',\n",
       " 'Cedarhurst',\n",
       " 'Dickson City',\n",
       " 'Bay Minette',\n",
       " 'El Campo',\n",
       " 'Flower Mound',\n",
       " 'Coleraine',\n",
       " 'Gillespie',\n",
       " 'Gaffney']"
      ]
     },
     "execution_count": 89,
     "metadata": {},
     "output_type": "execute_result"
    }
   ],
   "source": [
    "best_list"
   ]
  },
  {
   "cell_type": "code",
   "execution_count": 90,
   "metadata": {},
   "outputs": [
    {
     "data": {
      "text/plain": [
       "['Greensboro',\n",
       " 'Clifton',\n",
       " 'Elgin',\n",
       " 'Ferriday',\n",
       " 'Glenwood',\n",
       " 'Faribault',\n",
       " 'Crookston',\n",
       " 'Garner',\n",
       " 'Catoosa',\n",
       " 'Farmers Branch',\n",
       " 'Fargo',\n",
       " 'Bonita Springs',\n",
       " 'Gas City',\n",
       " 'Florissant',\n",
       " 'Ellensburg',\n",
       " 'Center Point',\n",
       " 'Giffnock',\n",
       " 'Glenn Heights',\n",
       " 'Canby']"
      ]
     },
     "execution_count": 90,
     "metadata": {},
     "output_type": "execute_result"
    }
   ],
   "source": [
    "moyenne_list"
   ]
  },
  {
   "cell_type": "code",
   "execution_count": 91,
   "metadata": {},
   "outputs": [
    {
     "data": {
      "text/plain": [
       "['Alliance',\n",
       " 'Ankeny',\n",
       " 'Darlington',\n",
       " 'Chelan',\n",
       " 'Dayton',\n",
       " 'Cleveland Heights',\n",
       " 'Alice',\n",
       " 'Bucyrus',\n",
       " 'Ammon',\n",
       " 'Fowler',\n",
       " 'Groveland',\n",
       " 'Galesburg',\n",
       " 'Floresville',\n",
       " 'Gloucester City',\n",
       " 'Gramercy',\n",
       " 'Camas',\n",
       " 'Charleston',\n",
       " 'Fountain Valley',\n",
       " 'Columbus',\n",
       " 'Alpine',\n",
       " 'Grenoble',\n",
       " 'Buckeye',\n",
       " 'Erie',\n",
       " 'Cullman',\n",
       " 'Alamogordo',\n",
       " 'Elkton',\n",
       " 'Fletcher',\n",
       " 'Davidson',\n",
       " 'Alamo Heights',\n",
       " 'Florida City',\n",
       " 'Grayslake',\n",
       " 'Altus',\n",
       " 'El Monte',\n",
       " 'Campbellsville',\n",
       " 'Camberwell',\n",
       " 'Benton Harbor',\n",
       " 'Fountain Inn',\n",
       " 'Elkin',\n",
       " 'Bensenville',\n",
       " 'Carteret',\n",
       " 'Bryan']"
      ]
     },
     "execution_count": 91,
     "metadata": {},
     "output_type": "execute_result"
    }
   ],
   "source": [
    "worst_list"
   ]
  },
  {
   "cell_type": "markdown",
   "metadata": {},
   "source": [
    "# change_point_rate = 0.01 : 0.61 (delete the 3 dernieres) std 0.28\n",
    "# change_point_rate = 0.2 : 0.57 (delete the 2 dernieres)\n",
    "# change_point_rate = 0.5 : 0.59 (delete the 3 dernieres) std 0.48\n",
    "# change_point_rate = 0.7 : 0.54 (delete the 3 dernieres) std 0.40\n",
    "# change_point_rate = 0.8 : 0.62 (delete the 3 dernieres)"
   ]
  }
 ],
 "metadata": {
  "kernelspec": {
   "display_name": "Python 3",
   "language": "python",
   "name": "python3"
  },
  "language_info": {
   "codemirror_mode": {
    "name": "ipython",
    "version": 3
   },
   "file_extension": ".py",
   "mimetype": "text/x-python",
   "name": "python",
   "nbconvert_exporter": "python",
   "pygments_lexer": "ipython3",
   "version": "3.6.5"
  }
 },
 "nbformat": 4,
 "nbformat_minor": 2
}
